{
 "cells": [
  {
   "cell_type": "code",
   "execution_count": 8,
   "metadata": {},
   "outputs": [],
   "source": [
    "import numpy as np\n",
    "import pandas as pd\n",
    "import matplotlib.pyplot as plt"
   ]
  },
  {
   "cell_type": "code",
   "execution_count": 9,
   "metadata": {},
   "outputs": [],
   "source": [
    "data = pd.read_csv('/home/surbhi/deadline_project/data_2nov_2019/driver type/driver1/phone_type/one_plus/event_type/normal/BIKE 02Nov,2019-09-58-04 AM/copy.csv')"
   ]
  },
  {
   "cell_type": "code",
   "execution_count": 10,
   "metadata": {},
   "outputs": [
    {
     "data": {
      "text/html": [
       "<div>\n",
       "<style scoped>\n",
       "    .dataframe tbody tr th:only-of-type {\n",
       "        vertical-align: middle;\n",
       "    }\n",
       "\n",
       "    .dataframe tbody tr th {\n",
       "        vertical-align: top;\n",
       "    }\n",
       "\n",
       "    .dataframe thead th {\n",
       "        text-align: right;\n",
       "    }\n",
       "</style>\n",
       "<table border=\"1\" class=\"dataframe\">\n",
       "  <thead>\n",
       "    <tr style=\"text-align: right;\">\n",
       "      <th></th>\n",
       "      <th>x</th>\n",
       "      <th>y</th>\n",
       "      <th>z</th>\n",
       "    </tr>\n",
       "  </thead>\n",
       "  <tbody>\n",
       "    <tr>\n",
       "      <th>0</th>\n",
       "      <td>0.051559</td>\n",
       "      <td>3.046524</td>\n",
       "      <td>9.124908</td>\n",
       "    </tr>\n",
       "    <tr>\n",
       "      <th>1</th>\n",
       "      <td>-0.177948</td>\n",
       "      <td>3.069382</td>\n",
       "      <td>9.079300</td>\n",
       "    </tr>\n",
       "    <tr>\n",
       "      <th>2</th>\n",
       "      <td>-0.491165</td>\n",
       "      <td>3.008011</td>\n",
       "      <td>9.137207</td>\n",
       "    </tr>\n",
       "    <tr>\n",
       "      <th>3</th>\n",
       "      <td>-0.479614</td>\n",
       "      <td>3.006958</td>\n",
       "      <td>9.231461</td>\n",
       "    </tr>\n",
       "    <tr>\n",
       "      <th>4</th>\n",
       "      <td>-0.274719</td>\n",
       "      <td>3.042206</td>\n",
       "      <td>9.221771</td>\n",
       "    </tr>\n",
       "  </tbody>\n",
       "</table>\n",
       "</div>"
      ],
      "text/plain": [
       "          x         y         z\n",
       "0  0.051559  3.046524  9.124908\n",
       "1 -0.177948  3.069382  9.079300\n",
       "2 -0.491165  3.008011  9.137207\n",
       "3 -0.479614  3.006958  9.231461\n",
       "4 -0.274719  3.042206  9.221771"
      ]
     },
     "execution_count": 10,
     "metadata": {},
     "output_type": "execute_result"
    }
   ],
   "source": [
    "data.head()"
   ]
  },
  {
   "cell_type": "code",
   "execution_count": 11,
   "metadata": {},
   "outputs": [
    {
     "data": {
      "text/plain": [
       "76838"
      ]
     },
     "execution_count": 11,
     "metadata": {},
     "output_type": "execute_result"
    }
   ],
   "source": [
    "len(data)"
   ]
  },
  {
   "cell_type": "code",
   "execution_count": 12,
   "metadata": {},
   "outputs": [],
   "source": [
    "def fileBreak(dataframe,filename):\n",
    "    length = len(dataframe)\n",
    "    if length <= 500:\n",
    "        dataframe.to_csv(filepath+filename+'.csv',index=True)\n",
    "    else:\n",
    "        half = length//2\n",
    "        one_fourth = half // 2\n",
    "        three_quarter = (half + length) // 2\n",
    "        dataframe.iloc[0:one_fourth].to_csv(filepath+filename+'.1.csv',index=True)\n",
    "        dataframe.iloc[one_fourth:half].to_csv(filepath+filename+'.2.csv',index=True)\n",
    "        dataframe.iloc[half:three_quarter].to_csv(filepath+filename+'.3.csv',index=True)\n",
    "        dataframe.iloc[three_quarter:].to_csv(filepath+filename+'.4.csv',index=True)\n",
    "        fileBreak(dataframe.iloc[0:one_fourth], filename+'.1')\n",
    "      \n",
    "        fileBreak(dataframe.iloc[one_fourth:half], filename+'.2')\n",
    "      \n",
    "        fileBreak(dataframe.iloc[half:three_quarter], filename+'.3')\n",
    "      \n",
    "        fileBreak(dataframe.iloc[three_quarter:], filename+'.4')\n",
    "    "
   ]
  },
  {
   "cell_type": "code",
   "execution_count": 13,
   "metadata": {},
   "outputs": [],
   "source": [
    "filepath = '/home/surbhi/deadline_project/data_2nov_2019/driver type/driver1/phone_type/one_plus/event_type/normal/BIKE 02Nov,2019-09-58-04 AM/division/'"
   ]
  },
  {
   "cell_type": "code",
   "execution_count": 14,
   "metadata": {
    "scrolled": true
   },
   "outputs": [],
   "source": [
    "fileBreak(data, 'part')"
   ]
  },
  {
   "cell_type": "code",
   "execution_count": null,
   "metadata": {},
   "outputs": [],
   "source": []
  },
  {
   "cell_type": "code",
   "execution_count": null,
   "metadata": {},
   "outputs": [],
   "source": []
  }
 ],
 "metadata": {
  "kernelspec": {
   "display_name": "Python 3",
   "language": "python",
   "name": "python3"
  },
  "language_info": {
   "codemirror_mode": {
    "name": "ipython",
    "version": 3
   },
   "file_extension": ".py",
   "mimetype": "text/x-python",
   "name": "python",
   "nbconvert_exporter": "python",
   "pygments_lexer": "ipython3",
   "version": "3.7.5"
  }
 },
 "nbformat": 4,
 "nbformat_minor": 2
}
